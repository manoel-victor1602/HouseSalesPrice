{
 "cells": [
  {
   "cell_type": "markdown",
   "metadata": {},
   "source": [
    "### Importação das bibliotecas"
   ]
  },
  {
   "cell_type": "markdown",
   "metadata": {},
   "source": [
    "<b>Pandas</b> - Manipulação e Análise de Bases de Dados \n",
    "\n",
    "<b>Numpy</b> - Computação numérica\n",
    "\n",
    "<b>Seaborn</b> - Plotagem de Gráficos e Visualização de Dados\n",
    "\n",
    "<b>Matplotlib</b> - Configuração do ambiente de plotagem de gráficos"
   ]
  },
  {
   "cell_type": "code",
   "execution_count": 1,
   "metadata": {},
   "outputs": [],
   "source": [
    "import pandas as pd\n",
    "import seaborn as sns\n",
    "import numpy as np\n",
    "import matplotlib.pyplot as plt\n",
    "import matplotlib\n",
    "\n",
    "%matplotlib inline"
   ]
  },
  {
   "cell_type": "markdown",
   "metadata": {},
   "source": [
    "<b>LinearRegression</b> - Regressor Linear para criação de um Baseline \n",
    "\n",
    "<b>sklearn.metrics</b>  - Métricas de avaliação de modelo MAE, MSE e R2\n",
    "\n",
    "<b>KFold</b>            - Método de treinamento e avaliação dos modelos\n",
    "\n",
    "<b>LabelEncoder</b>     - Método de Pré-processamento de variáveis categóricas\n",
    "\n",
    "<b>Imputer</b>\n",
    "\n",
    "<b>sqrt</b>             - Função do cálculo da Raiz Quadrada para geração da métrica RMSE"
   ]
  },
  {
   "cell_type": "code",
   "execution_count": 2,
   "metadata": {},
   "outputs": [],
   "source": [
    "from sklearn.linear_model import LinearRegression\n",
    "from sklearn.metrics import mean_absolute_error, mean_squared_error, r2_score\n",
    "from sklearn.model_selection import KFold\n",
    "from sklearn.preprocessing import LabelEncoder\n",
    "from sklearn.impute import SimpleImputer\n",
    "\n",
    "from math import sqrt"
   ]
  },
  {
   "cell_type": "code",
   "execution_count": 3,
   "metadata": {},
   "outputs": [],
   "source": [
    "import warnings\n",
    "warnings.filterwarnings(\"ignore\")"
   ]
  },
  {
   "cell_type": "code",
   "execution_count": 4,
   "metadata": {},
   "outputs": [],
   "source": [
    "def train_baseline(df):\n",
    "    # Criando um novo DataFrame sem os exemplos com dados faltantes para treinamento do modelo baseline\n",
    "    df_train = df.dropna()  \n",
    "\n",
    "    # Verificando os atributos categóricos para transformação\n",
    "    is_category = df_train.dtypes == 'object'\n",
    "    cat_index = df_train.columns[is_category]\n",
    "\n",
    "    # Transformação das colunas categóricas\n",
    "    for cat in cat_index:\n",
    "        df_train.loc[:, cat] = LabelEncoder().fit_transform(df_train.loc[:, cat])\n",
    "\n",
    "    # Separação das variáveis preditoras e variável alvo\n",
    "    X = df_train.drop('SalePrice', axis=1)   \n",
    "    y = df_train['SalePrice'].values\n",
    "\n",
    "    # Treinamento do modelo baseline\n",
    "    kf = KFold(n_splits=10)\n",
    "\n",
    "    kf.get_n_splits(X)\n",
    "\n",
    "    mae = []\n",
    "    rmse = []\n",
    "    r2 = []\n",
    "\n",
    "    for train_index, test_index in kf.split(X):\n",
    "        X_train, X_test = X.iloc[train_index, :], X.iloc[test_index, :]\n",
    "        y_train, y_test = y[train_index], y[test_index]\n",
    "\n",
    "        reg = LinearRegression()\n",
    "        reg.fit(X_train, y_train)\n",
    "        y_pred = reg.predict(X_test)\n",
    "\n",
    "        mae.append(mean_absolute_error(y_test, y_pred))\n",
    "        rmse.append(sqrt(mean_squared_error(y_test, y_pred)))\n",
    "        r2.append(r2_score(y_test, y_pred))\n",
    "\n",
    "    print('A média da métrica MAE foi de {}'.format(round(np.mean(mae), 2)))\n",
    "    print('A média da métrica RMSE foi de {}'.format(round(np.mean(rmse), 2)))\n",
    "    print('A média da métrica R2 foi de {}'.format(round(np.mean(r2), 4)))"
   ]
  },
  {
   "cell_type": "code",
   "execution_count": 5,
   "metadata": {},
   "outputs": [],
   "source": [
    "df = pd.read_csv('dataset/train_clean_with_nan.csv', index_col='Id')"
   ]
  },
  {
   "cell_type": "code",
   "execution_count": 6,
   "metadata": {},
   "outputs": [
    {
     "data": {
      "text/html": [
       "<div>\n",
       "<style scoped>\n",
       "    .dataframe tbody tr th:only-of-type {\n",
       "        vertical-align: middle;\n",
       "    }\n",
       "\n",
       "    .dataframe tbody tr th {\n",
       "        vertical-align: top;\n",
       "    }\n",
       "\n",
       "    .dataframe thead th {\n",
       "        text-align: right;\n",
       "    }\n",
       "</style>\n",
       "<table border=\"1\" class=\"dataframe\">\n",
       "  <thead>\n",
       "    <tr style=\"text-align: right;\">\n",
       "      <th></th>\n",
       "      <th>MSSubClass</th>\n",
       "      <th>MSZoning</th>\n",
       "      <th>LotShape</th>\n",
       "      <th>LandContour</th>\n",
       "      <th>LotConfig</th>\n",
       "      <th>LandSlope</th>\n",
       "      <th>Neighborhood</th>\n",
       "      <th>HouseStyle</th>\n",
       "      <th>OverallQual</th>\n",
       "      <th>YearBuilt</th>\n",
       "      <th>...</th>\n",
       "      <th>GarageYrBlt</th>\n",
       "      <th>GarageFinish</th>\n",
       "      <th>GarageCars</th>\n",
       "      <th>GarageQual</th>\n",
       "      <th>PavedDrive</th>\n",
       "      <th>WoodDeckSF</th>\n",
       "      <th>OpenPorchSF</th>\n",
       "      <th>SaleType</th>\n",
       "      <th>SaleCondition</th>\n",
       "      <th>SalePrice</th>\n",
       "    </tr>\n",
       "    <tr>\n",
       "      <th>Id</th>\n",
       "      <th></th>\n",
       "      <th></th>\n",
       "      <th></th>\n",
       "      <th></th>\n",
       "      <th></th>\n",
       "      <th></th>\n",
       "      <th></th>\n",
       "      <th></th>\n",
       "      <th></th>\n",
       "      <th></th>\n",
       "      <th></th>\n",
       "      <th></th>\n",
       "      <th></th>\n",
       "      <th></th>\n",
       "      <th></th>\n",
       "      <th></th>\n",
       "      <th></th>\n",
       "      <th></th>\n",
       "      <th></th>\n",
       "      <th></th>\n",
       "      <th></th>\n",
       "    </tr>\n",
       "  </thead>\n",
       "  <tbody>\n",
       "    <tr>\n",
       "      <th>1</th>\n",
       "      <td>60</td>\n",
       "      <td>RL</td>\n",
       "      <td>Reg</td>\n",
       "      <td>Lvl</td>\n",
       "      <td>Inside</td>\n",
       "      <td>Gtl</td>\n",
       "      <td>CollgCr</td>\n",
       "      <td>2Story</td>\n",
       "      <td>7</td>\n",
       "      <td>2003</td>\n",
       "      <td>...</td>\n",
       "      <td>2003.0</td>\n",
       "      <td>RFn</td>\n",
       "      <td>2</td>\n",
       "      <td>TA</td>\n",
       "      <td>Y</td>\n",
       "      <td>0</td>\n",
       "      <td>61</td>\n",
       "      <td>WD</td>\n",
       "      <td>Normal</td>\n",
       "      <td>208500</td>\n",
       "    </tr>\n",
       "    <tr>\n",
       "      <th>2</th>\n",
       "      <td>20</td>\n",
       "      <td>RL</td>\n",
       "      <td>Reg</td>\n",
       "      <td>Lvl</td>\n",
       "      <td>FR2</td>\n",
       "      <td>Gtl</td>\n",
       "      <td>Veenker</td>\n",
       "      <td>1Story</td>\n",
       "      <td>6</td>\n",
       "      <td>1976</td>\n",
       "      <td>...</td>\n",
       "      <td>1976.0</td>\n",
       "      <td>RFn</td>\n",
       "      <td>2</td>\n",
       "      <td>TA</td>\n",
       "      <td>Y</td>\n",
       "      <td>298</td>\n",
       "      <td>0</td>\n",
       "      <td>WD</td>\n",
       "      <td>Normal</td>\n",
       "      <td>181500</td>\n",
       "    </tr>\n",
       "    <tr>\n",
       "      <th>3</th>\n",
       "      <td>60</td>\n",
       "      <td>RL</td>\n",
       "      <td>IR1</td>\n",
       "      <td>Lvl</td>\n",
       "      <td>Inside</td>\n",
       "      <td>Gtl</td>\n",
       "      <td>CollgCr</td>\n",
       "      <td>2Story</td>\n",
       "      <td>7</td>\n",
       "      <td>2001</td>\n",
       "      <td>...</td>\n",
       "      <td>2001.0</td>\n",
       "      <td>RFn</td>\n",
       "      <td>2</td>\n",
       "      <td>TA</td>\n",
       "      <td>Y</td>\n",
       "      <td>0</td>\n",
       "      <td>42</td>\n",
       "      <td>WD</td>\n",
       "      <td>Normal</td>\n",
       "      <td>223500</td>\n",
       "    </tr>\n",
       "    <tr>\n",
       "      <th>4</th>\n",
       "      <td>70</td>\n",
       "      <td>RL</td>\n",
       "      <td>IR1</td>\n",
       "      <td>Lvl</td>\n",
       "      <td>Corner</td>\n",
       "      <td>Gtl</td>\n",
       "      <td>Crawfor</td>\n",
       "      <td>2Story</td>\n",
       "      <td>7</td>\n",
       "      <td>1915</td>\n",
       "      <td>...</td>\n",
       "      <td>1998.0</td>\n",
       "      <td>Unf</td>\n",
       "      <td>3</td>\n",
       "      <td>TA</td>\n",
       "      <td>Y</td>\n",
       "      <td>0</td>\n",
       "      <td>35</td>\n",
       "      <td>WD</td>\n",
       "      <td>Abnorml</td>\n",
       "      <td>140000</td>\n",
       "    </tr>\n",
       "    <tr>\n",
       "      <th>5</th>\n",
       "      <td>60</td>\n",
       "      <td>RL</td>\n",
       "      <td>IR1</td>\n",
       "      <td>Lvl</td>\n",
       "      <td>FR2</td>\n",
       "      <td>Gtl</td>\n",
       "      <td>NoRidge</td>\n",
       "      <td>2Story</td>\n",
       "      <td>8</td>\n",
       "      <td>2000</td>\n",
       "      <td>...</td>\n",
       "      <td>2000.0</td>\n",
       "      <td>RFn</td>\n",
       "      <td>3</td>\n",
       "      <td>TA</td>\n",
       "      <td>Y</td>\n",
       "      <td>192</td>\n",
       "      <td>84</td>\n",
       "      <td>WD</td>\n",
       "      <td>Normal</td>\n",
       "      <td>250000</td>\n",
       "    </tr>\n",
       "  </tbody>\n",
       "</table>\n",
       "<p>5 rows × 47 columns</p>\n",
       "</div>"
      ],
      "text/plain": [
       "    MSSubClass MSZoning LotShape LandContour LotConfig LandSlope Neighborhood  \\\n",
       "Id                                                                              \n",
       "1           60       RL      Reg         Lvl    Inside       Gtl      CollgCr   \n",
       "2           20       RL      Reg         Lvl       FR2       Gtl      Veenker   \n",
       "3           60       RL      IR1         Lvl    Inside       Gtl      CollgCr   \n",
       "4           70       RL      IR1         Lvl    Corner       Gtl      Crawfor   \n",
       "5           60       RL      IR1         Lvl       FR2       Gtl      NoRidge   \n",
       "\n",
       "   HouseStyle  OverallQual  YearBuilt  ...  GarageYrBlt GarageFinish  \\\n",
       "Id                                     ...                             \n",
       "1      2Story            7       2003  ...       2003.0          RFn   \n",
       "2      1Story            6       1976  ...       1976.0          RFn   \n",
       "3      2Story            7       2001  ...       2001.0          RFn   \n",
       "4      2Story            7       1915  ...       1998.0          Unf   \n",
       "5      2Story            8       2000  ...       2000.0          RFn   \n",
       "\n",
       "   GarageCars  GarageQual PavedDrive WoodDeckSF OpenPorchSF SaleType  \\\n",
       "Id                                                                     \n",
       "1           2          TA          Y          0          61       WD   \n",
       "2           2          TA          Y        298           0       WD   \n",
       "3           2          TA          Y          0          42       WD   \n",
       "4           3          TA          Y          0          35       WD   \n",
       "5           3          TA          Y        192          84       WD   \n",
       "\n",
       "   SaleCondition SalePrice  \n",
       "Id                          \n",
       "1         Normal    208500  \n",
       "2         Normal    181500  \n",
       "3         Normal    223500  \n",
       "4        Abnorml    140000  \n",
       "5         Normal    250000  \n",
       "\n",
       "[5 rows x 47 columns]"
      ]
     },
     "execution_count": 6,
     "metadata": {},
     "output_type": "execute_result"
    }
   ],
   "source": [
    "df.head()"
   ]
  },
  {
   "cell_type": "markdown",
   "metadata": {},
   "source": [
    "### Análise dos valores ausentes"
   ]
  },
  {
   "cell_type": "code",
   "execution_count": 7,
   "metadata": {},
   "outputs": [],
   "source": [
    "isnull = df.isnull().sum()\n",
    "isnull_index = [index for null, index in zip(isnull, isnull.index) if null > 0]"
   ]
  },
  {
   "cell_type": "code",
   "execution_count": 8,
   "metadata": {},
   "outputs": [
    {
     "name": "stdout",
     "output_type": "stream",
     "text": [
      "Os atributos que possuem dados ausentes são: \n",
      "->  MasVnrType\n",
      "->  MasVnrArea\n",
      "->  BsmtQual\n",
      "->  BsmtCond\n",
      "->  BsmtExposure\n",
      "->  BsmtFinType1\n",
      "->  BsmtFinType2\n",
      "->  Electrical\n",
      "->  GarageType\n",
      "->  GarageYrBlt\n",
      "->  GarageFinish\n",
      "->  GarageQual\n"
     ]
    }
   ],
   "source": [
    "print('Os atributos que possuem dados ausentes são: ')\n",
    "for col in isnull_index:\n",
    "    print('-> ', col)"
   ]
  },
  {
   "cell_type": "code",
   "execution_count": 9,
   "metadata": {},
   "outputs": [
    {
     "name": "stdout",
     "output_type": "stream",
     "text": [
      "<class 'pandas.core.frame.DataFrame'>\n",
      "Int64Index: 1460 entries, 1 to 1460\n",
      "Data columns (total 12 columns):\n",
      " #   Column        Non-Null Count  Dtype  \n",
      "---  ------        --------------  -----  \n",
      " 0   MasVnrType    1452 non-null   object \n",
      " 1   MasVnrArea    1452 non-null   float64\n",
      " 2   BsmtQual      1423 non-null   object \n",
      " 3   BsmtCond      1423 non-null   object \n",
      " 4   BsmtExposure  1422 non-null   object \n",
      " 5   BsmtFinType1  1423 non-null   object \n",
      " 6   BsmtFinType2  1422 non-null   object \n",
      " 7   Electrical    1459 non-null   object \n",
      " 8   GarageType    1379 non-null   object \n",
      " 9   GarageYrBlt   1379 non-null   float64\n",
      " 10  GarageFinish  1379 non-null   object \n",
      " 11  GarageQual    1379 non-null   object \n",
      "dtypes: float64(2), object(10)\n",
      "memory usage: 148.3+ KB\n"
     ]
    }
   ],
   "source": [
    "df[isnull_index].info()"
   ]
  },
  {
   "cell_type": "markdown",
   "metadata": {},
   "source": [
    "12 dos 47 atributos selecionados possuem dados faltantes, sendo 10 variáveis categóricas e 2 variáveis numéricas"
   ]
  },
  {
   "cell_type": "markdown",
   "metadata": {},
   "source": [
    "### Análise dos atributos numéricos com dados faltantes"
   ]
  },
  {
   "cell_type": "code",
   "execution_count": 10,
   "metadata": {},
   "outputs": [
    {
     "data": {
      "text/html": [
       "<div>\n",
       "<style scoped>\n",
       "    .dataframe tbody tr th:only-of-type {\n",
       "        vertical-align: middle;\n",
       "    }\n",
       "\n",
       "    .dataframe tbody tr th {\n",
       "        vertical-align: top;\n",
       "    }\n",
       "\n",
       "    .dataframe thead th {\n",
       "        text-align: right;\n",
       "    }\n",
       "</style>\n",
       "<table border=\"1\" class=\"dataframe\">\n",
       "  <thead>\n",
       "    <tr style=\"text-align: right;\">\n",
       "      <th></th>\n",
       "      <th>MasVnrArea</th>\n",
       "      <th>GarageYrBlt</th>\n",
       "    </tr>\n",
       "    <tr>\n",
       "      <th>Id</th>\n",
       "      <th></th>\n",
       "      <th></th>\n",
       "    </tr>\n",
       "  </thead>\n",
       "  <tbody>\n",
       "    <tr>\n",
       "      <th>1</th>\n",
       "      <td>196.0</td>\n",
       "      <td>2003.0</td>\n",
       "    </tr>\n",
       "    <tr>\n",
       "      <th>2</th>\n",
       "      <td>0.0</td>\n",
       "      <td>1976.0</td>\n",
       "    </tr>\n",
       "    <tr>\n",
       "      <th>3</th>\n",
       "      <td>162.0</td>\n",
       "      <td>2001.0</td>\n",
       "    </tr>\n",
       "    <tr>\n",
       "      <th>4</th>\n",
       "      <td>0.0</td>\n",
       "      <td>1998.0</td>\n",
       "    </tr>\n",
       "    <tr>\n",
       "      <th>5</th>\n",
       "      <td>350.0</td>\n",
       "      <td>2000.0</td>\n",
       "    </tr>\n",
       "    <tr>\n",
       "      <th>...</th>\n",
       "      <td>...</td>\n",
       "      <td>...</td>\n",
       "    </tr>\n",
       "    <tr>\n",
       "      <th>1456</th>\n",
       "      <td>0.0</td>\n",
       "      <td>1999.0</td>\n",
       "    </tr>\n",
       "    <tr>\n",
       "      <th>1457</th>\n",
       "      <td>119.0</td>\n",
       "      <td>1978.0</td>\n",
       "    </tr>\n",
       "    <tr>\n",
       "      <th>1458</th>\n",
       "      <td>0.0</td>\n",
       "      <td>1941.0</td>\n",
       "    </tr>\n",
       "    <tr>\n",
       "      <th>1459</th>\n",
       "      <td>0.0</td>\n",
       "      <td>1950.0</td>\n",
       "    </tr>\n",
       "    <tr>\n",
       "      <th>1460</th>\n",
       "      <td>0.0</td>\n",
       "      <td>1965.0</td>\n",
       "    </tr>\n",
       "  </tbody>\n",
       "</table>\n",
       "<p>1460 rows × 2 columns</p>\n",
       "</div>"
      ],
      "text/plain": [
       "      MasVnrArea  GarageYrBlt\n",
       "Id                           \n",
       "1          196.0       2003.0\n",
       "2            0.0       1976.0\n",
       "3          162.0       2001.0\n",
       "4            0.0       1998.0\n",
       "5          350.0       2000.0\n",
       "...          ...          ...\n",
       "1456         0.0       1999.0\n",
       "1457       119.0       1978.0\n",
       "1458         0.0       1941.0\n",
       "1459         0.0       1950.0\n",
       "1460         0.0       1965.0\n",
       "\n",
       "[1460 rows x 2 columns]"
      ]
     },
     "execution_count": 10,
     "metadata": {},
     "output_type": "execute_result"
    }
   ],
   "source": [
    "df[['MasVnrArea','GarageYrBlt']]"
   ]
  },
  {
   "cell_type": "markdown",
   "metadata": {},
   "source": [
    "#### Análise dos dados faltantes do atributo MasVnrArea"
   ]
  },
  {
   "cell_type": "code",
   "execution_count": 11,
   "metadata": {},
   "outputs": [
    {
     "data": {
      "text/plain": [
       "<AxesSubplot:xlabel='MasVnrArea'>"
      ]
     },
     "execution_count": 11,
     "metadata": {},
     "output_type": "execute_result"
    },
    {
     "data": {
      "image/png": "[encoded data removed]",
      "text/plain": [
       "<Figure size 432x288 with 1 Axes>"
      ]
     },
     "metadata": {
      "needs_background": "light"
     },
     "output_type": "display_data"
    }
   ],
   "source": [
    "sns.boxplot(df['MasVnrArea'])"
   ]
  },
  {
   "cell_type": "code",
   "execution_count": 12,
   "metadata": {},
   "outputs": [
    {
     "data": {
      "text/plain": [
       "<AxesSubplot:xlabel='MasVnrArea'>"
      ]
     },
     "execution_count": 12,
     "metadata": {},
     "output_type": "execute_result"
    },
    {
     "data": {
      "image/png": "[encoded data removed]",
      "text/plain": [
       "<Figure size 432x288 with 1 Axes>"
      ]
     },
     "metadata": {
      "needs_background": "light"
     },
     "output_type": "display_data"
    }
   ],
   "source": [
    "sns.distplot(df['MasVnrArea'])"
   ]
  },
  {
   "cell_type": "code",
   "execution_count": 13,
   "metadata": {},
   "outputs": [
    {
     "data": {
      "text/plain": [
       "(-1.601, 200.0]     1154\n",
       "(200.0, 400.0]       198\n",
       "(400.0, 600.0]        61\n",
       "(600.0, 800.0]        25\n",
       "(800.0, 1000.0]        7\n",
       "(1000.0, 1200.0]       5\n",
       "(1400.0, 1600.0]       1\n",
       "(1200.0, 1400.0]       1\n",
       "Name: MasVnrArea, dtype: int64"
      ]
     },
     "execution_count": 13,
     "metadata": {},
     "output_type": "execute_result"
    }
   ],
   "source": [
    "df['MasVnrArea'].value_counts(bins=8)"
   ]
  },
  {
   "cell_type": "code",
   "execution_count": 14,
   "metadata": {},
   "outputs": [
    {
     "data": {
      "text/plain": [
       "<AxesSubplot:xlabel='MasVnrArea', ylabel='SalePrice'>"
      ]
     },
     "execution_count": 14,
     "metadata": {},
     "output_type": "execute_result"
    },
    {
     "data": {
      "image/png": "[encoded data removed]",
      "text/plain": [
       "<Figure size 432x288 with 1 Axes>"
      ]
     },
     "metadata": {
      "needs_background": "light"
     },
     "output_type": "display_data"
    }
   ],
   "source": [
    "sns.regplot(x='MasVnrArea', y='SalePrice', data=df)"
   ]
  },
  {
   "cell_type": "code",
   "execution_count": 15,
   "metadata": {},
   "outputs": [
    {
     "name": "stdout",
     "output_type": "stream",
     "text": [
      "Há 591 casas com folheamento em alvenaria, representando 40% dos exemplos.\n"
     ]
    }
   ],
   "source": [
    "print('Há {} casas com folheamento em alvenaria, representando {}% dos exemplos.'.format(len(df[df['MasVnrArea'] > 0]),\n",
    "                                                                                         round(len(df[df['MasVnrArea'] > 0]) / len(df) * 100),2))"
   ]
  },
  {
   "cell_type": "code",
   "execution_count": 16,
   "metadata": {},
   "outputs": [
    {
     "data": {
      "text/html": [
       "<div>\n",
       "<style scoped>\n",
       "    .dataframe tbody tr th:only-of-type {\n",
       "        vertical-align: middle;\n",
       "    }\n",
       "\n",
       "    .dataframe tbody tr th {\n",
       "        vertical-align: top;\n",
       "    }\n",
       "\n",
       "    .dataframe thead th {\n",
       "        text-align: right;\n",
       "    }\n",
       "</style>\n",
       "<table border=\"1\" class=\"dataframe\">\n",
       "  <thead>\n",
       "    <tr style=\"text-align: right;\">\n",
       "      <th></th>\n",
       "      <th>MasVnrArea</th>\n",
       "      <th>SalePrice</th>\n",
       "    </tr>\n",
       "  </thead>\n",
       "  <tbody>\n",
       "    <tr>\n",
       "      <th>MasVnrArea</th>\n",
       "      <td>1.000000</td>\n",
       "      <td>0.477493</td>\n",
       "    </tr>\n",
       "    <tr>\n",
       "      <th>SalePrice</th>\n",
       "      <td>0.477493</td>\n",
       "      <td>1.000000</td>\n",
       "    </tr>\n",
       "  </tbody>\n",
       "</table>\n",
       "</div>"
      ],
      "text/plain": [
       "            MasVnrArea  SalePrice\n",
       "MasVnrArea    1.000000   0.477493\n",
       "SalePrice     0.477493   1.000000"
      ]
     },
     "execution_count": 16,
     "metadata": {},
     "output_type": "execute_result"
    }
   ],
   "source": [
    "df[['MasVnrArea','SalePrice']].corr()"
   ]
  },
  {
   "cell_type": "markdown",
   "metadata": {},
   "source": [
    "O atributo <i>MasVnrArea</i> possui uma grande concentração entre 0 e 200, o que indicaria um desbalanceamento, no entanto nos exemplos que possuem valores maiores que 0, essa característica tem um considerável impacto no valor de venda, tendo em vista a linha de regressão apresentada no gráfico de regressão. Assim, foi decidido manter essa variável e preencher o valores faltantes com 0, por ser o valor mais comum."
   ]
  },
  {
   "cell_type": "code",
   "execution_count": 17,
   "metadata": {},
   "outputs": [],
   "source": [
    "imputer = SimpleImputer(strategy='constant', fill_value=0)\n",
    "df['MasVnrArea'] = imputer.fit_transform(np.array(df['MasVnrArea']).reshape(-1, 1))"
   ]
  },
  {
   "cell_type": "markdown",
   "metadata": {},
   "source": [
    "#### Análise dos dados faltantes do atributo GarageYrBlt"
   ]
  },
  {
   "cell_type": "code",
   "execution_count": 18,
   "metadata": {},
   "outputs": [
    {
     "data": {
      "text/plain": [
       "<AxesSubplot:xlabel='GarageYrBlt'>"
      ]
     },
     "execution_count": 18,
     "metadata": {},
     "output_type": "execute_result"
    },
    {
     "data": {
      "image/png": "[encoded data removed]",
      "text/plain": [
       "<Figure size 432x288 with 1 Axes>"
      ]
     },
     "metadata": {
      "needs_background": "light"
     },
     "output_type": "display_data"
    }
   ],
   "source": [
    "sns.boxplot(df['GarageYrBlt'])"
   ]
  },
  {
   "cell_type": "code",
   "execution_count": 19,
   "metadata": {},
   "outputs": [
    {
     "data": {
      "text/plain": [
       "<AxesSubplot:xlabel='GarageYrBlt'>"
      ]
     },
     "execution_count": 19,
     "metadata": {},
     "output_type": "execute_result"
    },
    {
     "data": {
      "image/png": "[encoded data removed]",
      "text/plain": [
       "<Figure size 432x288 with 1 Axes>"
      ]
     },
     "metadata": {
      "needs_background": "light"
     },
     "output_type": "display_data"
    }
   ],
   "source": [
    "sns.distplot(df['GarageYrBlt'])"
   ]
  },
  {
   "cell_type": "code",
   "execution_count": 20,
   "metadata": {},
   "outputs": [
    {
     "data": {
      "text/plain": [
       "(1988.0, 2010.0]                608\n",
       "(1966.0, 1988.0]                327\n",
       "(1944.0, 1966.0]                309\n",
       "(1922.0, 1944.0]                 96\n",
       "(1899.8890000000001, 1922.0]     39\n",
       "Name: GarageYrBlt, dtype: int64"
      ]
     },
     "execution_count": 20,
     "metadata": {},
     "output_type": "execute_result"
    }
   ],
   "source": [
    "df['GarageYrBlt'].value_counts(bins=5)"
   ]
  },
  {
   "cell_type": "code",
   "execution_count": 21,
   "metadata": {},
   "outputs": [
    {
     "data": {
      "text/plain": [
       "<AxesSubplot:xlabel='GarageYrBlt', ylabel='SalePrice'>"
      ]
     },
     "execution_count": 21,
     "metadata": {},
     "output_type": "execute_result"
    },
    {
     "data": {
      "image/png": "[encoded data removed]",
      "text/plain": [
       "<Figure size 432x288 with 1 Axes>"
      ]
     },
     "metadata": {
      "needs_background": "light"
     },
     "output_type": "display_data"
    }
   ],
   "source": [
    "sns.regplot(x='GarageYrBlt', y='SalePrice', data=df)"
   ]
  },
  {
   "cell_type": "code",
   "execution_count": 22,
   "metadata": {},
   "outputs": [
    {
     "name": "stdout",
     "output_type": "stream",
     "text": [
      "Há 81 valores ausentes no atributo GarageYrBlt.\n"
     ]
    }
   ],
   "source": [
    "print('Há {} valores ausentes no atributo GarageYrBlt.'.format(df['GarageYrBlt'].isnull().sum()))"
   ]
  },
  {
   "cell_type": "code",
   "execution_count": 23,
   "metadata": {},
   "outputs": [
    {
     "data": {
      "text/plain": [
       "count    1379.000000\n",
       "mean     1978.506164\n",
       "std        24.689725\n",
       "min      1900.000000\n",
       "25%      1961.000000\n",
       "50%      1980.000000\n",
       "75%      2002.000000\n",
       "max      2010.000000\n",
       "Name: GarageYrBlt, dtype: float64"
      ]
     },
     "execution_count": 23,
     "metadata": {},
     "output_type": "execute_result"
    }
   ],
   "source": [
    "df['GarageYrBlt'].describe()"
   ]
  },
  {
   "cell_type": "code",
   "execution_count": 24,
   "metadata": {},
   "outputs": [
    {
     "data": {
      "text/html": [
       "<div>\n",
       "<style scoped>\n",
       "    .dataframe tbody tr th:only-of-type {\n",
       "        vertical-align: middle;\n",
       "    }\n",
       "\n",
       "    .dataframe tbody tr th {\n",
       "        vertical-align: top;\n",
       "    }\n",
       "\n",
       "    .dataframe thead th {\n",
       "        text-align: right;\n",
       "    }\n",
       "</style>\n",
       "<table border=\"1\" class=\"dataframe\">\n",
       "  <thead>\n",
       "    <tr style=\"text-align: right;\">\n",
       "      <th></th>\n",
       "      <th>GarageYrBlt</th>\n",
       "      <th>YearBuilt</th>\n",
       "      <th>YearRemodAdd</th>\n",
       "    </tr>\n",
       "    <tr>\n",
       "      <th>Id</th>\n",
       "      <th></th>\n",
       "      <th></th>\n",
       "      <th></th>\n",
       "    </tr>\n",
       "  </thead>\n",
       "  <tbody>\n",
       "    <tr>\n",
       "      <th>3</th>\n",
       "      <td>2001.0</td>\n",
       "      <td>2001</td>\n",
       "      <td>2002</td>\n",
       "    </tr>\n",
       "    <tr>\n",
       "      <th>4</th>\n",
       "      <td>1998.0</td>\n",
       "      <td>1915</td>\n",
       "      <td>1970</td>\n",
       "    </tr>\n",
       "    <tr>\n",
       "      <th>6</th>\n",
       "      <td>1993.0</td>\n",
       "      <td>1993</td>\n",
       "      <td>1995</td>\n",
       "    </tr>\n",
       "    <tr>\n",
       "      <th>7</th>\n",
       "      <td>2004.0</td>\n",
       "      <td>2004</td>\n",
       "      <td>2005</td>\n",
       "    </tr>\n",
       "    <tr>\n",
       "      <th>9</th>\n",
       "      <td>1931.0</td>\n",
       "      <td>1931</td>\n",
       "      <td>1950</td>\n",
       "    </tr>\n",
       "    <tr>\n",
       "      <th>...</th>\n",
       "      <td>...</td>\n",
       "      <td>...</td>\n",
       "      <td>...</td>\n",
       "    </tr>\n",
       "    <tr>\n",
       "      <th>1455</th>\n",
       "      <td>2004.0</td>\n",
       "      <td>2004</td>\n",
       "      <td>2005</td>\n",
       "    </tr>\n",
       "    <tr>\n",
       "      <th>1456</th>\n",
       "      <td>1999.0</td>\n",
       "      <td>1999</td>\n",
       "      <td>2000</td>\n",
       "    </tr>\n",
       "    <tr>\n",
       "      <th>1457</th>\n",
       "      <td>1978.0</td>\n",
       "      <td>1978</td>\n",
       "      <td>1988</td>\n",
       "    </tr>\n",
       "    <tr>\n",
       "      <th>1458</th>\n",
       "      <td>1941.0</td>\n",
       "      <td>1941</td>\n",
       "      <td>2006</td>\n",
       "    </tr>\n",
       "    <tr>\n",
       "      <th>1459</th>\n",
       "      <td>1950.0</td>\n",
       "      <td>1950</td>\n",
       "      <td>1996</td>\n",
       "    </tr>\n",
       "  </tbody>\n",
       "</table>\n",
       "<p>696 rows × 3 columns</p>\n",
       "</div>"
      ],
      "text/plain": [
       "      GarageYrBlt  YearBuilt  YearRemodAdd\n",
       "Id                                        \n",
       "3          2001.0       2001          2002\n",
       "4          1998.0       1915          1970\n",
       "6          1993.0       1993          1995\n",
       "7          2004.0       2004          2005\n",
       "9          1931.0       1931          1950\n",
       "...           ...        ...           ...\n",
       "1455       2004.0       2004          2005\n",
       "1456       1999.0       1999          2000\n",
       "1457       1978.0       1978          1988\n",
       "1458       1941.0       1941          2006\n",
       "1459       1950.0       1950          1996\n",
       "\n",
       "[696 rows x 3 columns]"
      ]
     },
     "execution_count": 24,
     "metadata": {},
     "output_type": "execute_result"
    }
   ],
   "source": [
    "df[['GarageYrBlt','YearBuilt','YearRemodAdd']][df['YearBuilt'] != df['YearRemodAdd']]"
   ]
  },
  {
   "cell_type": "markdown",
   "metadata": {},
   "source": [
    "O atributo <i>GarageYrBlt</i> representa o ano em que a garagem da casa foi construída dessa forma foi decidido usar o atributo <i>YearBuilt</i> por ser o ano em que a casa foi construída como estratégia de preenchimento. O motivo por ser o ano em que a casa foi construída é que não há garantia de que caso a residência não tenha sido construída com garagem e tenha construído uma posteriormente, o ano seria o apresentado pelo atributo <i>YearRemodAdd</i>, há exemplos na base de dados em que o ano de remodelação da residência não equivale ao ano de construção da garagem mesmo a garagem não tendo sido construída inicialmente. Assim, é mais seguro preencher os valores ausentes com o atributo <i>YearBuilt</i>."
   ]
  },
  {
   "cell_type": "code",
   "execution_count": 25,
   "metadata": {},
   "outputs": [],
   "source": [
    "garage_isnull = df['GarageYrBlt'].isnull()\n",
    "df['GarageYrBlt'] = [df.loc[index, 'GarageYrBlt']  if not(null) else df.loc[index, 'YearBuilt'] \n",
    "                                                   for null, index in zip(garage_isnull, garage_isnull.index)]"
   ]
  },
  {
   "cell_type": "markdown",
   "metadata": {},
   "source": [
    "### Análise Dados faltantes para os atributos categóricos"
   ]
  },
  {
   "cell_type": "code",
   "execution_count": 26,
   "metadata": {},
   "outputs": [],
   "source": [
    "isnull = df.isnull().sum()\n",
    "isnull_index = [index for null, index in zip(isnull, isnull.index) if null > 0]"
   ]
  },
  {
   "cell_type": "code",
   "execution_count": 27,
   "metadata": {},
   "outputs": [
    {
     "name": "stdout",
     "output_type": "stream",
     "text": [
      "<class 'pandas.core.frame.DataFrame'>\n",
      "Int64Index: 1460 entries, 1 to 1460\n",
      "Data columns (total 10 columns):\n",
      " #   Column        Non-Null Count  Dtype \n",
      "---  ------        --------------  ----- \n",
      " 0   MasVnrType    1452 non-null   object\n",
      " 1   BsmtQual      1423 non-null   object\n",
      " 2   BsmtCond      1423 non-null   object\n",
      " 3   BsmtExposure  1422 non-null   object\n",
      " 4   BsmtFinType1  1423 non-null   object\n",
      " 5   BsmtFinType2  1422 non-null   object\n",
      " 6   Electrical    1459 non-null   object\n",
      " 7   GarageType    1379 non-null   object\n",
      " 8   GarageFinish  1379 non-null   object\n",
      " 9   GarageQual    1379 non-null   object\n",
      "dtypes: object(10)\n",
      "memory usage: 165.5+ KB\n"
     ]
    }
   ],
   "source": [
    "df[isnull_index].info()"
   ]
  },
  {
   "cell_type": "code",
   "execution_count": 28,
   "metadata": {
    "scrolled": true
   },
   "outputs": [
    {
     "name": "stdout",
     "output_type": "stream",
     "text": [
      "None       864\n",
      "BrkFace    445\n",
      "Stone      128\n",
      "BrkCmn      15\n",
      "NaN          8\n",
      "Name: MasVnrType, dtype: int64\n",
      "TA     649\n",
      "Gd     618\n",
      "Ex     121\n",
      "NaN     37\n",
      "Fa      35\n",
      "Name: BsmtQual, dtype: int64\n",
      "TA     1311\n",
      "Gd       65\n",
      "Fa       45\n",
      "NaN      37\n",
      "Po        2\n",
      "Name: BsmtCond, dtype: int64\n",
      "No     953\n",
      "Av     221\n",
      "Gd     134\n",
      "Mn     114\n",
      "NaN     38\n",
      "Name: BsmtExposure, dtype: int64\n",
      "Unf    430\n",
      "GLQ    418\n",
      "ALQ    220\n",
      "BLQ    148\n",
      "Rec    133\n",
      "LwQ     74\n",
      "NaN     37\n",
      "Name: BsmtFinType1, dtype: int64\n",
      "Unf    1256\n",
      "Rec      54\n",
      "LwQ      46\n",
      "NaN      38\n",
      "BLQ      33\n",
      "ALQ      19\n",
      "GLQ      14\n",
      "Name: BsmtFinType2, dtype: int64\n",
      "SBrkr    1334\n",
      "FuseA      94\n",
      "FuseF      27\n",
      "FuseP       3\n",
      "Mix         1\n",
      "NaN         1\n",
      "Name: Electrical, dtype: int64\n",
      "Attchd     870\n",
      "Detchd     387\n",
      "BuiltIn     88\n",
      "NaN         81\n",
      "Basment     19\n",
      "CarPort      9\n",
      "2Types       6\n",
      "Name: GarageType, dtype: int64\n",
      "Unf    605\n",
      "RFn    422\n",
      "Fin    352\n",
      "NaN     81\n",
      "Name: GarageFinish, dtype: int64\n",
      "TA     1311\n",
      "NaN      81\n",
      "Fa       48\n",
      "Gd       14\n",
      "Po        3\n",
      "Ex        3\n",
      "Name: GarageQual, dtype: int64\n"
     ]
    }
   ],
   "source": [
    "for col in isnull_index:\n",
    "    print(df[col].value_counts(dropna=False))"
   ]
  },
  {
   "cell_type": "markdown",
   "metadata": {},
   "source": [
    "Para os atributos categóricos com elementos faltantes será preenchido com a categoria mais frequente, porém para evitar desbalanceamento entre valores e possível sobreajuste do modelo, o atributo <i>GarageFinish</i> será removido."
   ]
  },
  {
   "cell_type": "code",
   "execution_count": 29,
   "metadata": {},
   "outputs": [],
   "source": [
    "df = df.drop('GarageFinish', axis=1)"
   ]
  },
  {
   "cell_type": "code",
   "execution_count": 30,
   "metadata": {},
   "outputs": [],
   "source": [
    "isnull_index.remove('GarageFinish')"
   ]
  },
  {
   "cell_type": "code",
   "execution_count": 31,
   "metadata": {},
   "outputs": [],
   "source": [
    "for col in isnull_index:\n",
    "    imputer = SimpleImputer(strategy='most_frequent')\n",
    "    df[col] = imputer.fit_transform(np.array(df[col]).reshape(-1, 1))"
   ]
  },
  {
   "cell_type": "code",
   "execution_count": 32,
   "metadata": {
    "scrolled": true
   },
   "outputs": [
    {
     "name": "stdout",
     "output_type": "stream",
     "text": [
      "<class 'pandas.core.frame.DataFrame'>\n",
      "Int64Index: 1460 entries, 1 to 1460\n",
      "Data columns (total 46 columns):\n",
      " #   Column         Non-Null Count  Dtype  \n",
      "---  ------         --------------  -----  \n",
      " 0   MSSubClass     1460 non-null   int64  \n",
      " 1   MSZoning       1460 non-null   object \n",
      " 2   LotShape       1460 non-null   object \n",
      " 3   LandContour    1460 non-null   object \n",
      " 4   LotConfig      1460 non-null   object \n",
      " 5   LandSlope      1460 non-null   object \n",
      " 6   Neighborhood   1460 non-null   object \n",
      " 7   HouseStyle     1460 non-null   object \n",
      " 8   OverallQual    1460 non-null   int64  \n",
      " 9   YearBuilt      1460 non-null   int64  \n",
      " 10  YearRemodAdd   1460 non-null   int64  \n",
      " 11  Exterior1st    1460 non-null   object \n",
      " 12  MasVnrType     1460 non-null   object \n",
      " 13  MasVnrArea     1460 non-null   float64\n",
      " 14  ExterQual      1460 non-null   object \n",
      " 15  ExterCond      1460 non-null   object \n",
      " 16  Foundation     1460 non-null   object \n",
      " 17  BsmtQual       1460 non-null   object \n",
      " 18  BsmtCond       1460 non-null   object \n",
      " 19  BsmtExposure   1460 non-null   object \n",
      " 20  BsmtFinType1   1460 non-null   object \n",
      " 21  BsmtFinType2   1460 non-null   object \n",
      " 22  TotalBsmtSF    1460 non-null   int64  \n",
      " 23  HeatingQC      1460 non-null   object \n",
      " 24  CentralAir     1460 non-null   object \n",
      " 25  Electrical     1460 non-null   object \n",
      " 26  1stFlrSF       1460 non-null   int64  \n",
      " 27  2ndFlrSF       1460 non-null   int64  \n",
      " 28  GrLivArea      1460 non-null   int64  \n",
      " 29  BsmtFullBath   1460 non-null   int64  \n",
      " 30  FullBath       1460 non-null   int64  \n",
      " 31  HalfBath       1460 non-null   int64  \n",
      " 32  BedroomAbvGr   1460 non-null   int64  \n",
      " 33  KitchenQual    1460 non-null   object \n",
      " 34  TotRmsAbvGrd   1460 non-null   int64  \n",
      " 35  Fireplaces     1460 non-null   int64  \n",
      " 36  GarageType     1460 non-null   object \n",
      " 37  GarageYrBlt    1460 non-null   float64\n",
      " 38  GarageCars     1460 non-null   int64  \n",
      " 39  GarageQual     1460 non-null   object \n",
      " 40  PavedDrive     1460 non-null   object \n",
      " 41  WoodDeckSF     1460 non-null   int64  \n",
      " 42  OpenPorchSF    1460 non-null   int64  \n",
      " 43  SaleType       1460 non-null   object \n",
      " 44  SaleCondition  1460 non-null   object \n",
      " 45  SalePrice      1460 non-null   int64  \n",
      "dtypes: float64(2), int64(18), object(26)\n",
      "memory usage: 576.1+ KB\n"
     ]
    }
   ],
   "source": [
    "df.info()"
   ]
  },
  {
   "cell_type": "code",
   "execution_count": 33,
   "metadata": {},
   "outputs": [
    {
     "name": "stdout",
     "output_type": "stream",
     "text": [
      "A média da métrica MAE foi de 20923.12\n",
      "A média da métrica RMSE foi de 33136.72\n",
      "A média da métrica R2 foi de 0.8196\n"
     ]
    }
   ],
   "source": [
    "train_baseline(df)"
   ]
  },
  {
   "cell_type": "code",
   "execution_count": 34,
   "metadata": {},
   "outputs": [],
   "source": [
    "df.to_csv('dataset/train_clean.csv')"
   ]
  },
  {
   "cell_type": "markdown",
   "metadata": {},
   "source": [
    "Com o tratamento dos valores ausentes o modelo baseline obteve uma melhora significativa na métrica R2, portanto a qualidade do modelo e da base de dados foi melhorada."
   ]
  }
 ],
 "metadata": {
  "kernelspec": {
   "display_name": "Python 3",
   "language": "python",
   "name": "python3"
  },
  "language_info": {
   "codemirror_mode": {
    "name": "ipython",
    "version": 3
   },
   "file_extension": ".py",
   "mimetype": "text/x-python",
   "name": "python",
   "nbconvert_exporter": "python",
   "pygments_lexer": "ipython3",
   "version": "3.7.6"
  }
 },
 "nbformat": 4,
 "nbformat_minor": 2
}
