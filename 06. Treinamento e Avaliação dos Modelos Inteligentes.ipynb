{
 "cells": [
  {
   "cell_type": "markdown",
   "metadata": {},
   "source": [
    "### Importação das bibliotecas"
   ]
  },
  {
   "cell_type": "markdown",
   "metadata": {},
   "source": [
    "<b>Numpy</b> - Computação numérica"
   ]
  },
  {
   "cell_type": "code",
   "execution_count": 1,
   "metadata": {},
   "outputs": [],
   "source": [
    "import numpy as np"
   ]
  },
  {
   "cell_type": "markdown",
   "metadata": {},
   "source": [
    "<b>Lasso</b> - É um método de regressão que realiza tanto seleção de variáveis como regularização para aprimorar a previsão e interpertabilidade do modelo estatístico produzido.\n",
    "\n",
    "<b>SVR</b> - Regressão por Vetores de Suporte é um tipo de Máquina de Vetores de Suporte especializado para problemas de regressão e tem como objetivo encontrar um função que produza saídas contínuas para os dados de treinamento que se aproximem ao máximo de seu rótulo desejado [Faceli et al. 2011].\n",
    "\n",
    "<b>MLP</b> -  Este tipo de modelo inteligente se encaixa na classificação de método baseado em otimização, pois o treinamento deste modelo consiste em minimizar (ou maximizar) uma função objetivo. No caso de problemas supervisionados, o valor dos elementos que se quer descobrir é considerado na formulação realizada. As Redes Neurais Artificiais (RNA) são baseadas no cérebro humano e são sistemas computacionais distribuídos compostos por unidades de processamento simples, essas unidades, conhecidas como neurônios artificiais, computam funções matemáticas [Faceli et al. 2011].\n",
    "\n",
    "<b>Random Forest Regressor</b> - Uma Floresta Aleatória é um estimador que ajusta um númerp de Árvores de Decisão classificadores em várias sub-amostras do dataset e usa a média para melhorar a precisão e controle de sobreajuste.\n",
    "\n",
    "<b> Gradient Boosting Regressor</b> - É um método de otimização de funções de perda diferenciáveis arbitrárias. Em cada etapa uma Árvore de Decisão é treinada no negativo do gradiente dado pela função de perda."
   ]
  },
  {
   "cell_type": "code",
   "execution_count": 2,
   "metadata": {},
   "outputs": [],
   "source": [
    "from sklearn.linear_model import Lasso \n",
    "from sklearn.svm import SVR\n",
    "from sklearn.neural_network import MLPRegressor\n",
    "from sklearn.ensemble import RandomForestRegressor, GradientBoostingRegressor"
   ]
  },
  {
   "cell_type": "markdown",
   "metadata": {},
   "source": [
    "<b>GridSearchCV</b>     - Busca em Grade é um processo de treinamento de avaliação de modelos para encontrar uma configuração ótima de parâmetros para determinado modelo.\n",
    "\n",
    "<b>KFold</b>            - Método de treinamento e avaliação dos modelos\n",
    "\n",
    "<b>sklearn.metrics</b>  - Métricas de avaliação de modelo MAE, MSE e R2\n",
    "\n",
    "<b>sqrt</b>             - Função do cálculo da Raiz Quadrada para geração da métrica RMSE\n",
    "\n",
    "<b>ceil</b>             - Função para arrendodamento para cima"
   ]
  },
  {
   "cell_type": "code",
   "execution_count": 3,
   "metadata": {},
   "outputs": [],
   "source": [
    "from sklearn.model_selection import GridSearchCV, KFold\n",
    "from sklearn.metrics import mean_absolute_error, mean_squared_error, r2_score\n",
    "\n",
    "from math import sqrt, ceil"
   ]
  },
  {
   "cell_type": "code",
   "execution_count": 4,
   "metadata": {},
   "outputs": [],
   "source": [
    "import warnings\n",
    "warnings.simplefilter(\"ignore\")"
   ]
  },
  {
   "cell_type": "code",
   "execution_count": 5,
   "metadata": {},
   "outputs": [],
   "source": [
    "def evaluate_model(model):\n",
    "    kf = KFold(n_splits=10, shuffle=True)\n",
    "\n",
    "    kf.get_n_splits(X)\n",
    "\n",
    "    mae = []\n",
    "    rmse = []\n",
    "    r2 = []\n",
    "\n",
    "    for train_index, test_index in kf.split(X):\n",
    "        X_train, X_test = X[train_index], X[test_index]\n",
    "        y_train, y_test = y[train_index], y[test_index]\n",
    "\n",
    "        model.fit(X_train, y_train)\n",
    "        y_pred = model.predict(X_test)\n",
    "\n",
    "        mae.append(mean_absolute_error(y_test, y_pred))\n",
    "        rmse.append(sqrt(mean_squared_error(y_test, y_pred)))\n",
    "        r2.append(r2_score(y_test, y_pred))\n",
    "\n",
    "    print('A média da métrica MAE foi de {}'.format(round(np.mean(mae), 2)))\n",
    "    print('A média da métrica RMSE foi de {}'.format(round(np.mean(rmse), 2)))\n",
    "    print('A média da métrica R2 foi de {}'.format(round(np.mean(r2), 4)))"
   ]
  },
  {
   "cell_type": "markdown",
   "metadata": {},
   "source": [
    "Heurística da Pirâmide para geração das possíveis melhores configurações de neurônios de uma rede neural artificial de 2 camadas ocultas, baseada num <i>alpha</i>, número de dados de entrada e número de saídas."
   ]
  },
  {
   "cell_type": "code",
   "execution_count": 6,
   "metadata": {},
   "outputs": [],
   "source": [
    "def piramid(alpha=2, n_in=7, n_out=1):\n",
    "    neurons = int(ceil(alpha * sqrt(n_in * n_out)))\n",
    "    ret = [(neurons,)]\n",
    "    ret += [(neurons-n, n) for n in range(1, neurons)]\n",
    "    return ret"
   ]
  },
  {
   "cell_type": "code",
   "execution_count": 7,
   "metadata": {},
   "outputs": [],
   "source": [
    "def grid_search(model, params, X, y):\n",
    "    regressor = GridSearchCV(model, params, scoring='neg_mean_absolute_error', n_jobs=-1, verbose=10)\n",
    "    regressor.fit(X, y)\n",
    "    print(np.abs(regressor.best_score_))\n",
    "    print(regressor.best_params_)"
   ]
  },
  {
   "cell_type": "code",
   "execution_count": 8,
   "metadata": {},
   "outputs": [],
   "source": [
    "# Carregamento dos atributos preditores e alvo\n",
    "X = np.load('dataset/X_processed.npy')\n",
    "y = np.load('dataset/y.npy')"
   ]
  },
  {
   "cell_type": "code",
   "execution_count": 9,
   "metadata": {},
   "outputs": [
    {
     "data": {
      "text/plain": [
       "(1460, 163)"
      ]
     },
     "execution_count": 9,
     "metadata": {},
     "output_type": "execute_result"
    }
   ],
   "source": [
    "X.shape"
   ]
  },
  {
   "cell_type": "code",
   "execution_count": 10,
   "metadata": {},
   "outputs": [],
   "source": [
    "# Número de atributos preditores\n",
    "n_features = X.shape[1]"
   ]
  },
  {
   "cell_type": "markdown",
   "metadata": {},
   "source": [
    "### Definição dos parâmetros a serem considerados durante a Busca em Grade"
   ]
  },
  {
   "cell_type": "code",
   "execution_count": 11,
   "metadata": {},
   "outputs": [],
   "source": [
    "# Parâmetros e hiperparâmetros a serem considerados para o treinamento da Rede Neural Artificial\n",
    "mlp_params = {\n",
    "    'activation': ['logistic', 'relu', 'tanh'], \n",
    "    'max_iter': [100, 150, 200],\n",
    "    'hidden_layer_sizes': list(piramid(alpha=0.5, n_in=n_features) + \n",
    "                               piramid(alpha=2, n_in=n_features) + \n",
    "                               piramid(alpha=3, n_in=n_features))\n",
    "}"
   ]
  },
  {
   "cell_type": "code",
   "execution_count": 12,
   "metadata": {},
   "outputs": [],
   "source": [
    "# Parâmetros e hiperparâmetros a serem considerados para o treinamento do Lasso\n",
    "lasso_params = {'alpha': [0.5, 1.0, 2.0],\n",
    "                'max_iter': [800, 900, 1000]}"
   ]
  },
  {
   "cell_type": "code",
   "execution_count": 13,
   "metadata": {},
   "outputs": [],
   "source": [
    "# Parâmetros e hiperparâmetros a serem considerados para o treinamento do Regressor por Vetores de Suporte\n",
    "svr_params = {'C': [0.5, 1.0, 2.0],\n",
    "       'kernel': ['linear','poly','rbf'],\n",
    "       'max_iter': [800, 900, 1000]}"
   ]
  },
  {
   "cell_type": "code",
   "execution_count": 14,
   "metadata": {},
   "outputs": [],
   "source": [
    "# Parâmetros e hiperparâmetros a serem considerados para o treinamento da Floresta Aleatória\n",
    "rf_params = {'n_estimators': [500, 1000, 1500],\n",
    "             'max_features': ['auto', 'sqrt', 'log2']}"
   ]
  },
  {
   "cell_type": "code",
   "execution_count": 15,
   "metadata": {},
   "outputs": [],
   "source": [
    "# Parâmetros e hiperparâmetros a serem considerados para o treinamento do Gradient Boosting\n",
    "gb_params = {'n_estimators': [500, 1000, 1500],\n",
    "             'learning_rate': [0.05, 0.1],\n",
    "             'max_features': ['auto', 'sqrt']}"
   ]
  },
  {
   "cell_type": "markdown",
   "metadata": {},
   "source": [
    "### Busca em Grade a partir dos modelos"
   ]
  },
  {
   "cell_type": "code",
   "execution_count": 16,
   "metadata": {},
   "outputs": [
    {
     "name": "stdout",
     "output_type": "stream",
     "text": [
      "Fitting 5 folds for each of 9 candidates, totalling 45 fits\n"
     ]
    },
    {
     "name": "stderr",
     "output_type": "stream",
     "text": [
      "[Parallel(n_jobs=-1)]: Using backend LokyBackend with 8 concurrent workers.\n",
      "[Parallel(n_jobs=-1)]: Done   2 tasks      | elapsed:    3.2s\n",
      "[Parallel(n_jobs=-1)]: Done   9 tasks      | elapsed:    3.9s\n",
      "[Parallel(n_jobs=-1)]: Done  16 tasks      | elapsed:    4.3s\n",
      "[Parallel(n_jobs=-1)]: Done  25 tasks      | elapsed:    5.2s\n",
      "[Parallel(n_jobs=-1)]: Done  35 out of  45 | elapsed:    6.0s remaining:    1.6s\n",
      "[Parallel(n_jobs=-1)]: Done  40 out of  45 | elapsed:    6.4s remaining:    0.7s\n",
      "[Parallel(n_jobs=-1)]: Done  45 out of  45 | elapsed:    6.8s remaining:    0.0s\n",
      "[Parallel(n_jobs=-1)]: Done  45 out of  45 | elapsed:    6.8s finished\n"
     ]
    },
    {
     "name": "stdout",
     "output_type": "stream",
     "text": [
      "19753.50258281688\n",
      "{'alpha': 2.0, 'max_iter': 800}\n"
     ]
    }
   ],
   "source": [
    "lasso = Lasso()\n",
    "grid_search(lasso, lasso_params, X, y)"
   ]
  },
  {
   "cell_type": "code",
   "execution_count": 17,
   "metadata": {},
   "outputs": [
    {
     "name": "stdout",
     "output_type": "stream",
     "text": [
      "Fitting 5 folds for each of 27 candidates, totalling 135 fits\n"
     ]
    },
    {
     "name": "stderr",
     "output_type": "stream",
     "text": [
      "[Parallel(n_jobs=-1)]: Using backend LokyBackend with 8 concurrent workers.\n",
      "[Parallel(n_jobs=-1)]: Done   2 tasks      | elapsed:    0.5s\n",
      "[Parallel(n_jobs=-1)]: Done   9 tasks      | elapsed:    1.2s\n",
      "[Parallel(n_jobs=-1)]: Done  16 tasks      | elapsed:    1.8s\n",
      "[Parallel(n_jobs=-1)]: Done  25 tasks      | elapsed:    3.1s\n",
      "[Parallel(n_jobs=-1)]: Done  34 tasks      | elapsed:    4.0s\n",
      "[Parallel(n_jobs=-1)]: Done  45 tasks      | elapsed:    5.2s\n",
      "[Parallel(n_jobs=-1)]: Done  56 tasks      | elapsed:    6.1s\n",
      "[Parallel(n_jobs=-1)]: Done  69 tasks      | elapsed:    7.6s\n",
      "[Parallel(n_jobs=-1)]: Done  82 tasks      | elapsed:    9.2s\n",
      "[Parallel(n_jobs=-1)]: Done  97 tasks      | elapsed:   10.5s\n",
      "[Parallel(n_jobs=-1)]: Done 112 tasks      | elapsed:   12.0s\n",
      "[Parallel(n_jobs=-1)]: Done 135 out of 135 | elapsed:   15.0s finished\n"
     ]
    },
    {
     "name": "stdout",
     "output_type": "stream",
     "text": [
      "29712.267633708834\n",
      "{'C': 0.5, 'kernel': 'linear', 'max_iter': 1000}\n"
     ]
    }
   ],
   "source": [
    "svr = SVR()\n",
    "grid_search(svr, svr_params, X, y)"
   ]
  },
  {
   "cell_type": "code",
   "execution_count": 18,
   "metadata": {},
   "outputs": [
    {
     "name": "stdout",
     "output_type": "stream",
     "text": [
      "Fitting 5 folds for each of 9 candidates, totalling 45 fits\n"
     ]
    },
    {
     "name": "stderr",
     "output_type": "stream",
     "text": [
      "[Parallel(n_jobs=-1)]: Using backend LokyBackend with 8 concurrent workers.\n",
      "[Parallel(n_jobs=-1)]: Done   2 tasks      | elapsed:  5.6min\n",
      "[Parallel(n_jobs=-1)]: Done   9 tasks      | elapsed: 10.0min\n",
      "[Parallel(n_jobs=-1)]: Done  16 tasks      | elapsed: 12.6min\n",
      "[Parallel(n_jobs=-1)]: Done  25 tasks      | elapsed: 15.6min\n",
      "[Parallel(n_jobs=-1)]: Done  35 out of  45 | elapsed: 16.6min remaining:  4.8min\n",
      "[Parallel(n_jobs=-1)]: Done  40 out of  45 | elapsed: 17.4min remaining:  2.2min\n",
      "[Parallel(n_jobs=-1)]: Done  45 out of  45 | elapsed: 18.5min remaining:    0.0s\n",
      "[Parallel(n_jobs=-1)]: Done  45 out of  45 | elapsed: 18.5min finished\n"
     ]
    },
    {
     "name": "stdout",
     "output_type": "stream",
     "text": [
      "17484.164752739725\n",
      "{'max_features': 'sqrt', 'n_estimators': 500}\n"
     ]
    }
   ],
   "source": [
    "rf = RandomForestRegressor(criterion='mae')\n",
    "grid_search(rf, rf_params, X, y)"
   ]
  },
  {
   "cell_type": "code",
   "execution_count": 19,
   "metadata": {},
   "outputs": [
    {
     "name": "stdout",
     "output_type": "stream",
     "text": [
      "Fitting 5 folds for each of 12 candidates, totalling 60 fits\n"
     ]
    },
    {
     "name": "stderr",
     "output_type": "stream",
     "text": [
      "[Parallel(n_jobs=-1)]: Using backend LokyBackend with 8 concurrent workers.\n",
      "[Parallel(n_jobs=-1)]: Done   2 tasks      | elapsed:  4.7min\n",
      "[Parallel(n_jobs=-1)]: Done   9 tasks      | elapsed: 10.1min\n",
      "[Parallel(n_jobs=-1)]: Done  16 tasks      | elapsed: 13.3min\n",
      "[Parallel(n_jobs=-1)]: Done  25 tasks      | elapsed: 16.4min\n",
      "[Parallel(n_jobs=-1)]: Done  34 tasks      | elapsed: 22.8min\n",
      "[Parallel(n_jobs=-1)]: Done  45 tasks      | elapsed: 31.2min\n",
      "[Parallel(n_jobs=-1)]: Done  52 out of  60 | elapsed: 33.8min remaining:  5.2min\n",
      "[Parallel(n_jobs=-1)]: Done  60 out of  60 | elapsed: 38.2min finished\n"
     ]
    },
    {
     "name": "stdout",
     "output_type": "stream",
     "text": [
      "15907.42306737458\n",
      "{'learning_rate': 0.05, 'max_features': 'sqrt', 'n_estimators': 1000}\n"
     ]
    }
   ],
   "source": [
    "gb = GradientBoostingRegressor(criterion='mae', loss='huber')\n",
    "grid_search(gb, gb_params, X, y)"
   ]
  },
  {
   "cell_type": "code",
   "execution_count": 20,
   "metadata": {
    "scrolled": true
   },
   "outputs": [
    {
     "name": "stdout",
     "output_type": "stream",
     "text": [
      "Fitting 5 folds for each of 648 candidates, totalling 3240 fits\n"
     ]
    },
    {
     "name": "stderr",
     "output_type": "stream",
     "text": [
      "[Parallel(n_jobs=-1)]: Using backend LokyBackend with 8 concurrent workers.\n",
      "[Parallel(n_jobs=-1)]: Done   2 tasks      | elapsed:    0.6s\n",
      "[Parallel(n_jobs=-1)]: Done   9 tasks      | elapsed:    1.4s\n",
      "[Parallel(n_jobs=-1)]: Done  16 tasks      | elapsed:    2.2s\n",
      "[Parallel(n_jobs=-1)]: Done  25 tasks      | elapsed:    3.2s\n",
      "[Parallel(n_jobs=-1)]: Done  34 tasks      | elapsed:    4.3s\n",
      "[Parallel(n_jobs=-1)]: Done  45 tasks      | elapsed:    5.8s\n",
      "[Parallel(n_jobs=-1)]: Done  56 tasks      | elapsed:    7.5s\n",
      "[Parallel(n_jobs=-1)]: Done  69 tasks      | elapsed:    9.0s\n",
      "[Parallel(n_jobs=-1)]: Done  82 tasks      | elapsed:   10.5s\n",
      "[Parallel(n_jobs=-1)]: Done  97 tasks      | elapsed:   12.7s\n",
      "[Parallel(n_jobs=-1)]: Done 112 tasks      | elapsed:   15.0s\n",
      "[Parallel(n_jobs=-1)]: Done 129 tasks      | elapsed:   17.9s\n",
      "[Parallel(n_jobs=-1)]: Done 146 tasks      | elapsed:   21.1s\n",
      "[Parallel(n_jobs=-1)]: Done 165 tasks      | elapsed:   24.5s\n",
      "[Parallel(n_jobs=-1)]: Done 184 tasks      | elapsed:   27.7s\n",
      "[Parallel(n_jobs=-1)]: Done 205 tasks      | elapsed:   32.0s\n",
      "[Parallel(n_jobs=-1)]: Done 226 tasks      | elapsed:   35.1s\n",
      "[Parallel(n_jobs=-1)]: Done 249 tasks      | elapsed:   38.8s\n",
      "[Parallel(n_jobs=-1)]: Done 272 tasks      | elapsed:   42.6s\n",
      "[Parallel(n_jobs=-1)]: Done 297 tasks      | elapsed:   46.8s\n",
      "[Parallel(n_jobs=-1)]: Done 322 tasks      | elapsed:   50.5s\n",
      "[Parallel(n_jobs=-1)]: Done 349 tasks      | elapsed:   54.9s\n",
      "[Parallel(n_jobs=-1)]: Done 376 tasks      | elapsed:   59.6s\n",
      "[Parallel(n_jobs=-1)]: Done 405 tasks      | elapsed:  1.1min\n",
      "[Parallel(n_jobs=-1)]: Done 434 tasks      | elapsed:  1.1min\n",
      "[Parallel(n_jobs=-1)]: Done 465 tasks      | elapsed:  1.2min\n",
      "[Parallel(n_jobs=-1)]: Done 496 tasks      | elapsed:  1.3min\n",
      "[Parallel(n_jobs=-1)]: Done 529 tasks      | elapsed:  1.4min\n",
      "[Parallel(n_jobs=-1)]: Done 562 tasks      | elapsed:  1.5min\n",
      "[Parallel(n_jobs=-1)]: Done 597 tasks      | elapsed:  1.7min\n",
      "[Parallel(n_jobs=-1)]: Done 632 tasks      | elapsed:  1.8min\n",
      "[Parallel(n_jobs=-1)]: Done 669 tasks      | elapsed:  1.9min\n",
      "[Parallel(n_jobs=-1)]: Done 706 tasks      | elapsed:  2.1min\n",
      "[Parallel(n_jobs=-1)]: Done 745 tasks      | elapsed:  2.2min\n",
      "[Parallel(n_jobs=-1)]: Done 784 tasks      | elapsed:  2.3min\n",
      "[Parallel(n_jobs=-1)]: Done 825 tasks      | elapsed:  2.5min\n",
      "[Parallel(n_jobs=-1)]: Done 866 tasks      | elapsed:  2.6min\n",
      "[Parallel(n_jobs=-1)]: Done 909 tasks      | elapsed:  2.7min\n",
      "[Parallel(n_jobs=-1)]: Done 952 tasks      | elapsed:  2.9min\n",
      "[Parallel(n_jobs=-1)]: Done 997 tasks      | elapsed:  3.0min\n",
      "[Parallel(n_jobs=-1)]: Done 1042 tasks      | elapsed:  3.1min\n",
      "[Parallel(n_jobs=-1)]: Done 1089 tasks      | elapsed:  3.3min\n",
      "[Parallel(n_jobs=-1)]: Done 1136 tasks      | elapsed:  3.4min\n",
      "[Parallel(n_jobs=-1)]: Done 1185 tasks      | elapsed:  3.5min\n",
      "[Parallel(n_jobs=-1)]: Done 1234 tasks      | elapsed:  3.6min\n",
      "[Parallel(n_jobs=-1)]: Done 1285 tasks      | elapsed:  3.9min\n",
      "[Parallel(n_jobs=-1)]: Done 1336 tasks      | elapsed:  4.4min\n",
      "[Parallel(n_jobs=-1)]: Done 1389 tasks      | elapsed:  5.0min\n",
      "[Parallel(n_jobs=-1)]: Done 1442 tasks      | elapsed:  5.5min\n",
      "[Parallel(n_jobs=-1)]: Done 1497 tasks      | elapsed:  6.0min\n",
      "[Parallel(n_jobs=-1)]: Done 1552 tasks      | elapsed:  6.5min\n",
      "[Parallel(n_jobs=-1)]: Done 1609 tasks      | elapsed:  7.0min\n",
      "[Parallel(n_jobs=-1)]: Done 1666 tasks      | elapsed:  7.5min\n",
      "[Parallel(n_jobs=-1)]: Done 1725 tasks      | elapsed:  8.0min\n",
      "[Parallel(n_jobs=-1)]: Done 1784 tasks      | elapsed:  8.6min\n",
      "[Parallel(n_jobs=-1)]: Done 1845 tasks      | elapsed:  9.0min\n",
      "[Parallel(n_jobs=-1)]: Done 1906 tasks      | elapsed:  9.2min\n",
      "[Parallel(n_jobs=-1)]: Done 1969 tasks      | elapsed:  9.4min\n",
      "[Parallel(n_jobs=-1)]: Done 2032 tasks      | elapsed:  9.6min\n",
      "[Parallel(n_jobs=-1)]: Done 2097 tasks      | elapsed:  9.8min\n",
      "[Parallel(n_jobs=-1)]: Done 2162 tasks      | elapsed: 10.0min\n",
      "[Parallel(n_jobs=-1)]: Done 2229 tasks      | elapsed: 10.1min\n",
      "[Parallel(n_jobs=-1)]: Done 2296 tasks      | elapsed: 10.3min\n",
      "[Parallel(n_jobs=-1)]: Done 2365 tasks      | elapsed: 10.5min\n",
      "[Parallel(n_jobs=-1)]: Done 2434 tasks      | elapsed: 10.7min\n",
      "[Parallel(n_jobs=-1)]: Done 2505 tasks      | elapsed: 10.9min\n",
      "[Parallel(n_jobs=-1)]: Done 2576 tasks      | elapsed: 11.1min\n",
      "[Parallel(n_jobs=-1)]: Done 2649 tasks      | elapsed: 11.2min\n",
      "[Parallel(n_jobs=-1)]: Done 2722 tasks      | elapsed: 11.5min\n",
      "[Parallel(n_jobs=-1)]: Done 2797 tasks      | elapsed: 11.7min\n",
      "[Parallel(n_jobs=-1)]: Done 2872 tasks      | elapsed: 12.0min\n",
      "[Parallel(n_jobs=-1)]: Done 2949 tasks      | elapsed: 12.2min\n",
      "[Parallel(n_jobs=-1)]: Done 3026 tasks      | elapsed: 12.5min\n",
      "[Parallel(n_jobs=-1)]: Done 3105 tasks      | elapsed: 12.7min\n",
      "[Parallel(n_jobs=-1)]: Done 3184 tasks      | elapsed: 13.0min\n",
      "[Parallel(n_jobs=-1)]: Done 3240 out of 3240 | elapsed: 13.1min finished\n"
     ]
    },
    {
     "name": "stdout",
     "output_type": "stream",
     "text": [
      "30806.29622113934\n",
      "{'activation': 'relu', 'hidden_layer_sizes': (17, 22), 'max_iter': 200}\n"
     ]
    }
   ],
   "source": [
    "mlp = MLPRegressor(solver='adam')\n",
    "grid_search(mlp, mlp_params, X, y)"
   ]
  },
  {
   "cell_type": "markdown",
   "metadata": {},
   "source": [
    "Com os melhores parâmetros encontrados a partir da Busca em Grade, serão criados modelos a partir desses parâmetros para realizar mais treinamentos e testes.\n",
    "\n",
    "Os modelos que apresentaram os melhores resultados foram a Floresta Aleatória Regressora e Gradient Boosting com os seguintes parâmetros:\n",
    "\n",
    "Floresta Aleatória: max_features='sqrt', n_estimators=1500 e criterion='mae'\n",
    "\n",
    "Gradient Boosting:learning_rate=0.05, max_features='sqrt', n_estimators=1500, criterion='mae' e loss='huber'"
   ]
  },
  {
   "cell_type": "markdown",
   "metadata": {},
   "source": [
    "### Treinamento e avaliação dos melhores modelos a partir do K-fold e das métricas MAE, RMSE e R2"
   ]
  },
  {
   "cell_type": "code",
   "execution_count": 21,
   "metadata": {},
   "outputs": [],
   "source": [
    "best_rf = RandomForestRegressor(max_features= 'sqrt', \n",
    "                                n_estimators= 500,\n",
    "                                criterion='mae')"
   ]
  },
  {
   "cell_type": "code",
   "execution_count": 22,
   "metadata": {
    "scrolled": true
   },
   "outputs": [
    {
     "name": "stdout",
     "output_type": "stream",
     "text": [
      "A média da métrica MAE foi de 17319.5\n",
      "A média da métrica RMSE foi de 29203.91\n",
      "A média da métrica R2 foi de 0.8621\n"
     ]
    }
   ],
   "source": [
    "evaluate_model(best_rf)"
   ]
  },
  {
   "cell_type": "code",
   "execution_count": 23,
   "metadata": {},
   "outputs": [],
   "source": [
    "best_gb = GradientBoostingRegressor(learning_rate= 0.05, \n",
    "                                    max_features= 'sqrt',\n",
    "                                    n_estimators= 1000, \n",
    "                                    criterion= 'mae',\n",
    "                                    loss='huber')"
   ]
  },
  {
   "cell_type": "code",
   "execution_count": 24,
   "metadata": {},
   "outputs": [
    {
     "name": "stdout",
     "output_type": "stream",
     "text": [
      "A média da métrica MAE foi de 16143.85\n",
      "A média da métrica RMSE foi de 26795.49\n",
      "A média da métrica R2 foi de 0.8807\n"
     ]
    }
   ],
   "source": [
    "evaluate_model(best_gb)"
   ]
  },
  {
   "cell_type": "markdown",
   "metadata": {},
   "source": [
    "O Gradient Boosting foi o modelo inteligente que apresentou os melhores resultados e será analisado mais detalhadamente."
   ]
  }
 ],
 "metadata": {
  "kernelspec": {
   "display_name": "Python 3",
   "language": "python",
   "name": "python3"
  },
  "language_info": {
   "codemirror_mode": {
    "name": "ipython",
    "version": 3
   },
   "file_extension": ".py",
   "mimetype": "text/x-python",
   "name": "python",
   "nbconvert_exporter": "python",
   "pygments_lexer": "ipython3",
   "version": "3.7.6"
  }
 },
 "nbformat": 4,
 "nbformat_minor": 2
}
